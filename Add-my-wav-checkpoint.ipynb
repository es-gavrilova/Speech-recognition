{
 "cells": [
  {
   "cell_type": "code",
   "execution_count": 2,
   "metadata": {
    "collapsed": true
   },
   "outputs": [],
   "source": [
    "import os\n",
    "import pyaudio\n",
    "import wave\n",
    "\n",
    "from scipy.io import wavfile\n",
    "import time\n",
    "\n"
   ]
  },
  {
   "cell_type": "code",
   "execution_count": 3,
   "metadata": {
    "collapsed": true
   },
   "outputs": [],
   "source": [
    "CHUNK = 1024\n",
    "FORMAT = pyaudio.paInt16\n",
    "CHANNELS = 1\n",
    "RATE = 16000\n",
    "RECORD_SECONDS = 3\n",
    "max_simvol=75\n",
    "# WAVE_OUTPUT_FILENAME =  'test.wav'\n",
    "voxforge_dir_my = './Voxforge/my_zapis'"
   ]
  },
  {
   "cell_type": "code",
   "execution_count": 4,
   "metadata": {
    "collapsed": true
   },
   "outputs": [],
   "source": [
    "# generate folder for txt files\n",
    "if not os.path.isdir(os.path.join(voxforge_dir_my, 'txt')):\n",
    "        os.makedirs(os.path.join(voxforge_dir_my, 'txt'))\n",
    "if not os.path.isdir(os.path.join(voxforge_dir_my, 'wav')):\n",
    "        os.makedirs(os.path.join(voxforge_dir_my, 'wav'))\n"
   ]
  },
  {
   "cell_type": "code",
   "execution_count": null,
   "metadata": {},
   "outputs": [],
   "source": [
    "while True:\n",
    "    ticks = str(int(time.time()))\n",
    "    while True:\n",
    "        some_var = input(\"Введите текст на русском языке: \")  \n",
    "        original = ' '.join(some_var.strip().lower().split(' ')).replace('.', '').replace(\"'\", '').replace('-', '').replace(',','')\n",
    "        i1=original\n",
    "        if (len(i1)/2 < max_simvol) and (len(i1) >2) :\n",
    "            some_var1=i1[:max_simvol*2]\n",
    "            print (','.join([some_var1]))\n",
    "\n",
    "            break\n",
    "        else:\n",
    "                prpp='В текст нет или больше букв, чем '\n",
    "                print (','.join([prpp]),max_simvol)\n",
    "    some_var = input(\"Если готовы к записи с микрофона нажмите ВВОД: \") \n",
    "        # write to file\n",
    "    with open(os.path.join(voxforge_dir_my, 'txt', ticks + '.txt'), 'w') as w:\n",
    "                w.write(some_var1)\n",
    "    p = pyaudio.PyAudio()\n",
    "\n",
    "    stream = p.open(format=FORMAT,\n",
    "                    channels=CHANNELS,\n",
    "                    rate=RATE,\n",
    "                    input=True,\n",
    "                    frames_per_buffer=CHUNK)\n",
    "\n",
    "    print(\"* СКАЖИТЕ В МИКРОФОН\")\n",
    "    print(some_var1)\n",
    "\n",
    "    frames = []\n",
    "\n",
    "    for i in range(0, int(RATE / CHUNK * RECORD_SECONDS)):\n",
    "        data = stream.read(CHUNK)\n",
    "        frames.append(data)\n",
    "\n",
    "    print(\"* КОНЕЦ ЗАПИСИ\")\n",
    "\n",
    "    stream.stop_stream()\n",
    "    stream.close()\n",
    "    p.terminate()\n",
    "\n",
    "    wf = wave.open(os.path.join(voxforge_dir_my, 'wav', ticks + '.wav'), 'wb')\n",
    "    wf.setnchannels(CHANNELS)\n",
    "    wf.setsampwidth(p.get_sample_size(FORMAT))\n",
    "    wf.setframerate(RATE)\n",
    "    wf.writeframes(b''.join(frames))\n",
    "    wf.close() \n",
    "#     Play audio\n",
    "    wf = wave.open(os.path.join(voxforge_dir_my, 'wav', ticks + '.wav'), 'rb')\n",
    "\n",
    "    p = pyaudio.PyAudio()\n",
    "\n",
    "    stream = p.open(format=p.get_format_from_width(wf.getsampwidth()),\n",
    "                    channels=wf.getnchannels(),\n",
    "                    rate=wf.getframerate(),\n",
    "                    output=True)\n",
    "\n",
    "    data = wf.readframes(CHUNK)\n",
    "\n",
    "    while data != '':\n",
    "        stream.write(data)\n",
    "        data = wf.readframes(CHUNK)\n",
    "\n",
    "    stream.stop_stream()\n",
    "    stream.close()\n",
    "\n",
    "    p.terminate()"
   ]
  },
  {
   "cell_type": "code",
   "execution_count": null,
   "metadata": {
    "collapsed": true
   },
   "outputs": [],
   "source": []
  }
 ],
 "metadata": {
  "kernelspec": {
   "display_name": "Python 3",
   "language": "python",
   "name": "python3"
  },
  "language_info": {
   "codemirror_mode": {
    "name": "ipython",
    "version": 3
   },
   "file_extension": ".py",
   "mimetype": "text/x-python",
   "name": "python",
   "nbconvert_exporter": "python",
   "pygments_lexer": "ipython3",
   "version": "3.6.3"
  }
 },
 "nbformat": 4,
 "nbformat_minor": 2
}
